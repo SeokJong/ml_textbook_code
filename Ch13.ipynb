{
 "cells": [
  {
   "cell_type": "code",
   "execution_count": 1,
   "metadata": {
    "scrolled": true
   },
   "outputs": [
    {
     "name": "stdout",
     "output_type": "stream",
     "text": [
      "2.0.0\n"
     ]
    }
   ],
   "source": [
    "import tensorflow as tf\n",
    "print(tf.__version__)"
   ]
  },
  {
   "cell_type": "code",
   "execution_count": 2,
   "metadata": {},
   "outputs": [],
   "source": [
    "g = tf.Graph()"
   ]
  },
  {
   "cell_type": "code",
   "execution_count": 3,
   "metadata": {},
   "outputs": [
    {
     "name": "stderr",
     "output_type": "stream",
     "text": [
      "WARNING: Logging before flag parsing goes to stderr.\n",
      "W1030 23:33:34.379751  4260 deprecation.py:506] From C:\\ProgramData\\Anaconda3\\lib\\site-packages\\tensorflow_core\\python\\ops\\resource_variable_ops.py:1630: calling BaseResourceVariable.__init__ (from tensorflow.python.ops.resource_variable_ops) with constraint is deprecated and will be removed in a future version.\n",
      "Instructions for updating:\n",
      "If using Keras pass *_constraint arguments to layers.\n"
     ]
    },
    {
     "name": "stdout",
     "output_type": "stream",
     "text": [
      "x= 1.0 --> z= 2.7\n",
      "x= 0.6 --> z= 1.9\n",
      "x=-1.8 --> z=-2.9\n"
     ]
    }
   ],
   "source": [
    "import tensorflow as tf\n",
    "\n",
    "## 그래프를 생성합니다\n",
    "g = tf.Graph()\n",
    "with g.as_default():\n",
    "    x = tf.compat.v1.placeholder(dtype=tf.float32,\n",
    "                       shape=(None), name='x')\n",
    "    w = tf.Variable(2.0, name='weight')\n",
    "    b = tf.Variable(0.7, name='bias')\n",
    "\n",
    "    z = w*x + b\n",
    "    init = tf.compat.v1.global_variables_initializer()\n",
    "\n",
    "## 세션을 만들고 그래프 g를 전달합니다\n",
    "with tf.compat.v1.Session(graph=g) as sess:\n",
    "    ## w와 b를 초기화합니다.\n",
    "    sess.run(init)\n",
    "    ## z를 평가합니다.\n",
    "    for t in [1.0, 0.6, -1.8]:\n",
    "        print('x=%4.1f --> z=%4.1f'%(\n",
    "              t, sess.run(z, feed_dict={x:t})))"
   ]
  },
  {
   "cell_type": "code",
   "execution_count": 8,
   "metadata": {},
   "outputs": [],
   "source": [
    "import tensorflow as tf"
   ]
  },
  {
   "cell_type": "code",
   "execution_count": 9,
   "metadata": {},
   "outputs": [
    {
     "name": "stdout",
     "output_type": "stream",
     "text": [
      "[2.7 4.7 6.7]\n"
     ]
    }
   ],
   "source": [
    "with tf.compat.v1.Session(graph = g) as sess:\n",
    "    sess.run(init)\n",
    "    print(sess.run(z, feed_dict = {x:[1.,2.,3.]}))"
   ]
  },
  {
   "cell_type": "code",
   "execution_count": 10,
   "metadata": {},
   "outputs": [
    {
     "name": "stdout",
     "output_type": "stream",
     "text": [
      "Tensor(\"add:0\", dtype=float32)\n"
     ]
    }
   ],
   "source": [
    "print(z)"
   ]
  },
  {
   "cell_type": "code",
   "execution_count": 4,
   "metadata": {},
   "outputs": [
    {
     "name": "stdout",
     "output_type": "stream",
     "text": [
      "x= 1.0 --> z= 2.7\n",
      "x= 0.6 --> z= 1.9\n",
      "x=-1.8 --> z=-2.9\n"
     ]
    }
   ],
   "source": [
    "w = tf.Variable(2.0, name='w')\n",
    "b = tf.Variable(0.7, name='b')\n",
    "\n",
    "for x in [1.0, 0.6, -1.8]:\n",
    "    z = w * x + b\n",
    "    print('x=%4.1f --> z=%4.1f' %(x,z))"
   ]
  },
  {
   "cell_type": "code",
   "execution_count": 7,
   "metadata": {},
   "outputs": [
    {
     "name": "stdout",
     "output_type": "stream",
     "text": [
      "[2.7 4.7 6.7]\n"
     ]
    }
   ],
   "source": [
    "z = w * [1.,2.,3.] + b\n",
    "\n",
    "print(z.numpy())"
   ]
  },
  {
   "cell_type": "code",
   "execution_count": 8,
   "metadata": {},
   "outputs": [],
   "source": [
    "import numpy as np"
   ]
  },
  {
   "cell_type": "code",
   "execution_count": 10,
   "metadata": {},
   "outputs": [],
   "source": [
    "x_array = np.arange(18).reshape(3,2,3)\n",
    "x2 = tf.reshape(x_array, shape = (-1, 6) )\n",
    "xsum = tf.reduce_sum(x2, axis=0)\n",
    "xmean = tf.reduce_mean(x2, axis = 0)"
   ]
  },
  {
   "cell_type": "code",
   "execution_count": 12,
   "metadata": {},
   "outputs": [
    {
     "name": "stdout",
     "output_type": "stream",
     "text": [
      "입력크기 (3, 2, 3)\n",
      "크기가 변경된 입력\n",
      " [[ 0  1  2  3  4  5]\n",
      " [ 6  7  8  9 10 11]\n",
      " [12 13 14 15 16 17]]\n",
      "열의 합 [18 21 24 27 30 33]\n",
      "열의 평균 [ 6  7  8  9 10 11]\n"
     ]
    }
   ],
   "source": [
    "print('입력크기', x_array.shape)\n",
    "print('크기가 변경된 입력\\n', x2.numpy())\n",
    "print('열의 합', xsum.numpy())\n",
    "print('열의 평균', xmean.numpy())"
   ]
  },
  {
   "cell_type": "code",
   "execution_count": 13,
   "metadata": {},
   "outputs": [],
   "source": [
    "X_train = np.arange(10).reshape((10, 1))\n",
    "y_train = np.array([1.0, 1.3, 3.1,\n",
    "                    2.0, 5.0, 6.3, \n",
    "                    6.6, 7.4, 8.0, \n",
    "                    9.0])"
   ]
  },
  {
   "cell_type": "code",
   "execution_count": 22,
   "metadata": {},
   "outputs": [],
   "source": [
    "class TfLinreg(object):\n",
    "    def __init__(self, learning_rate=0.01):\n",
    "        self.w = tf.Variable(tf.zeros(shape=(1)))\n",
    "        self.b = tf.Variable(tf.zeros(shape=(1)))\n",
    "        self.optimizer = tf.keras.optimizers.SGD(lr=learning_rate)\n",
    "        \n",
    "    def fit(self, X, y, num_epoches = 10):\n",
    "        training_costs = []\n",
    "        for step in range(num_epoches):\n",
    "            with tf.GradientTape() as tape:\n",
    "                z_net = self.w * X + self.b\n",
    "                z_net = tf.reshape(z_net, [-1])\n",
    "                sqr_errors = tf.square( y - z_net)\n",
    "                mean_cost = tf.reduce_mean(sqr_errors)\n",
    "            grads = tape.gradient(mean_cost, [self.w, self.b])\n",
    "            self.optimizer.apply_gradients(zip(grads, [self.w, self.b]))\n",
    "            training_costs.append(mean_cost.numpy())\n",
    "        return training_costs\n",
    "    def predict(self, X):\n",
    "        return self.w * X + self.b"
   ]
  },
  {
   "cell_type": "code",
   "execution_count": 23,
   "metadata": {},
   "outputs": [],
   "source": [
    "lrmodel = TfLinreg()"
   ]
  },
  {
   "cell_type": "code",
   "execution_count": 24,
   "metadata": {},
   "outputs": [],
   "source": [
    "training_cost = lrmodel.fit(X_train, y_train)"
   ]
  },
  {
   "cell_type": "code",
   "execution_count": 25,
   "metadata": {},
   "outputs": [
    {
     "data": {
      "image/png": "[encoded data removed]",
      "text/plain": [
       "<Figure size 432x288 with 1 Axes>"
      ]
     },
     "metadata": {
      "needs_background": "light"
     },
     "output_type": "display_data"
    }
   ],
   "source": [
    "import matplotlib.pyplot as plt\n",
    "\n",
    "plt.plot(range(1, len(training_cost)+1), training_cost)\n",
    "plt.tight_layout()\n",
    "plt.show()"
   ]
  },
  {
   "cell_type": "code",
   "execution_count": 28,
   "metadata": {},
   "outputs": [
    {
     "data": {
      "image/png": "[encoded data removed]",
      "text/plain": [
       "<Figure size 432x288 with 1 Axes>"
      ]
     },
     "metadata": {
      "needs_background": "light"
     },
     "output_type": "display_data"
    }
   ],
   "source": [
    "plt.scatter(X_train, y_train, marker='s' , s= 50 )\n",
    "plt.plot(range(X_train.shape[0]), lrmodel.predict(X_train),color='gray',marker='o')\n",
    "plt.show()"
   ]
  },
  {
   "cell_type": "code",
   "execution_count": 57,
   "metadata": {
    "scrolled": true
   },
   "outputs": [],
   "source": [
    "# MNIST 데이터셋 압축 해제\n",
    "\n",
    "import sys\n",
    "import gzip\n",
    "import shutil\n",
    "import os\n",
    "\n",
    "if (sys.version_info > (3, 0)):\n",
    "    writemode = 'wb'\n",
    "else:\n",
    "    writemode = 'w'\n",
    "\n",
    "zipped_mnist = ['data/'+f for f in os.listdir('data/') if f.endswith('ubyte.gz')]\n",
    "for z in zipped_mnist:\n",
    "    with gzip.GzipFile(z, mode='rb') as decompressed, open(z[:-3], writemode) as outfile:\n",
    "        outfile.write(decompressed.read())"
   ]
  },
  {
   "cell_type": "code",
   "execution_count": 58,
   "metadata": {},
   "outputs": [],
   "source": [
    "import os\n",
    "import struct\n",
    "import numpy as np\n",
    " \n",
    "def load_mnist(path, kind='train'):\n",
    "    \"\"\"`path`에서 MNIST 데이터 불러오기\"\"\"\n",
    "    labels_path = os.path.join(path, \n",
    "                               '%s-labels-idx1-ubyte' % kind)\n",
    "    images_path = os.path.join(path, \n",
    "                               '%s-images-idx3-ubyte' % kind)\n",
    "        \n",
    "    with open(labels_path, 'rb') as lbpath:\n",
    "        magic, n = struct.unpack('>II', \n",
    "                                 lbpath.read(8))\n",
    "        labels = np.fromfile(lbpath, \n",
    "                             dtype=np.uint8)\n",
    "\n",
    "    with open(images_path, 'rb') as imgpath:\n",
    "        magic, num, rows, cols = struct.unpack(\">IIII\", \n",
    "                                               imgpath.read(16))\n",
    "        images = np.fromfile(imgpath, \n",
    "                             dtype=np.uint8).reshape(len(labels), 784)\n",
    "        images = ((images / 255.) - .5) * 2\n",
    " \n",
    "    return images, labels   "
   ]
  },
  {
   "cell_type": "code",
   "execution_count": 54,
   "metadata": {},
   "outputs": [
    {
     "ename": "FileNotFoundError",
     "evalue": "[Errno 2] No such file or directory: 'data/train-labels-idx1-ubyte'",
     "output_type": "error",
     "traceback": [
      "\u001b[1;31m---------------------------------------------------------------------------\u001b[0m",
      "\u001b[1;31mFileNotFoundError\u001b[0m                         Traceback (most recent call last)",
      "\u001b[1;32m<ipython-input-54-4776887a067c>\u001b[0m in \u001b[0;36m<module>\u001b[1;34m\u001b[0m\n\u001b[1;32m----> 1\u001b[1;33m \u001b[0mX_train\u001b[0m\u001b[1;33m,\u001b[0m \u001b[0my_train\u001b[0m \u001b[1;33m=\u001b[0m \u001b[0mload_mnist\u001b[0m\u001b[1;33m(\u001b[0m\u001b[1;34m'data/'\u001b[0m\u001b[1;33m,\u001b[0m \u001b[0mkind\u001b[0m\u001b[1;33m=\u001b[0m\u001b[1;34m'train'\u001b[0m\u001b[1;33m)\u001b[0m\u001b[1;33m\u001b[0m\u001b[1;33m\u001b[0m\u001b[0m\n\u001b[0m\u001b[0;32m      2\u001b[0m print('행: %d,  열: %d' %(X_train.shape[0], \n\u001b[0;32m      3\u001b[0m                                  X_train.shape[1]))\n\u001b[0;32m      4\u001b[0m \u001b[0mX_test\u001b[0m\u001b[1;33m,\u001b[0m \u001b[0my_test\u001b[0m \u001b[1;33m=\u001b[0m \u001b[0mload_mnist\u001b[0m\u001b[1;33m(\u001b[0m\u001b[1;34m'data/'\u001b[0m\u001b[1;33m,\u001b[0m \u001b[0mkind\u001b[0m\u001b[1;33m=\u001b[0m\u001b[1;34m't10k'\u001b[0m\u001b[1;33m)\u001b[0m\u001b[1;33m\u001b[0m\u001b[1;33m\u001b[0m\u001b[0m\n\u001b[0;32m      5\u001b[0m print('행: %d,  열: %d' %(X_test.shape[0], \n",
      "\u001b[1;32m<ipython-input-34-6166522000b6>\u001b[0m in \u001b[0;36mload_mnist\u001b[1;34m(path, kind)\u001b[0m\n\u001b[0;32m     10\u001b[0m                                '%s-images-idx3-ubyte' % kind)\n\u001b[0;32m     11\u001b[0m \u001b[1;33m\u001b[0m\u001b[0m\n\u001b[1;32m---> 12\u001b[1;33m     \u001b[1;32mwith\u001b[0m \u001b[0mopen\u001b[0m\u001b[1;33m(\u001b[0m\u001b[0mlabels_path\u001b[0m\u001b[1;33m,\u001b[0m \u001b[1;34m'rb'\u001b[0m\u001b[1;33m)\u001b[0m \u001b[1;32mas\u001b[0m \u001b[0mlbpath\u001b[0m\u001b[1;33m:\u001b[0m\u001b[1;33m\u001b[0m\u001b[1;33m\u001b[0m\u001b[0m\n\u001b[0m\u001b[0;32m     13\u001b[0m         magic, n = struct.unpack('>II', \n\u001b[0;32m     14\u001b[0m                                  lbpath.read(8))\n",
      "\u001b[1;31mFileNotFoundError\u001b[0m: [Errno 2] No such file or directory: 'data/train-labels-idx1-ubyte'"
     ]
    }
   ],
   "source": [
    "X_train, y_train = load_mnist('data/', kind='train')\n",
    "print('행: %d,  열: %d' %(X_train.shape[0], \n",
    "                                 X_train.shape[1]))\n",
    "X_test, y_test = load_mnist('data/', kind='t10k')\n",
    "print('행: %d,  열: %d' %(X_test.shape[0], \n",
    "                                 X_test.shape[1]))\n",
    "\n",
    "## 평균을 0으로 만들고 표준 편차로 나눕니다.\n",
    "mean_vals = np.mean(X_train, axis=0)\n",
    "std_val = np.std(X_train)\n",
    "\n",
    "X_train_centered = (X_train - mean_vals)/std_val\n",
    "X_test_centered = (X_test - mean_vals)/std_val\n",
    " \n",
    "del X_train, X_test\n",
    " \n",
    "print(X_train_centered.shape, y_train.shape)\n",
    "\n",
    "print(X_test_centered.shape, y_test.shape)"
   ]
  },
  {
   "cell_type": "code",
   "execution_count": 36,
   "metadata": {},
   "outputs": [],
   "source": [
    "np.random.seed(123)"
   ]
  },
  {
   "cell_type": "code",
   "execution_count": 37,
   "metadata": {},
   "outputs": [],
   "source": [
    "y_train_onehot= tf.keras.utils.to_categorical(y_train)"
   ]
  },
  {
   "cell_type": "code",
   "execution_count": 39,
   "metadata": {},
   "outputs": [],
   "source": [
    "model = tf.keras.models.Sequential()\n",
    "\n",
    "model.add(\n",
    "    tf.keras.layers.Dense(\n",
    "        units=50,\n",
    "        input_dim = X_train_centered.shape[1],\n",
    "        kernel_initializer = 'glorot_uniform',\n",
    "        bias_initializer = 'zeros',\n",
    "        activation = 'tanh'))\n",
    "model.add(\n",
    "    tf.keras.layers.Dense(\n",
    "        units=50,\n",
    "        input_dim = 50,\n",
    "        kernel_initializer = 'glorot_uniform',\n",
    "        bias_initializer = 'zeros',\n",
    "        activation = 'tanh'))\n",
    "model.add(\n",
    "    tf.keras.layers.Dense(\n",
    "        units=y_train_onehot.shape[1],\n",
    "        kernel_initializer = 'glorot_uniform',\n",
    "        bias_initializer = 'zeros',\n",
    "        activation = 'softmax'))\n"
   ]
  },
  {
   "cell_type": "code",
   "execution_count": 40,
   "metadata": {},
   "outputs": [
    {
     "name": "stdout",
     "output_type": "stream",
     "text": [
      "Model: \"sequential_1\"\n",
      "_________________________________________________________________\n",
      "Layer (type)                 Output Shape              Param #   \n",
      "=================================================================\n",
      "dense (Dense)                (None, 50)                39250     \n",
      "_________________________________________________________________\n",
      "dense_1 (Dense)              (None, 50)                2550      \n",
      "_________________________________________________________________\n",
      "dense_2 (Dense)              (None, 10)                510       \n",
      "=================================================================\n",
      "Total params: 42,310\n",
      "Trainable params: 42,310\n",
      "Non-trainable params: 0\n",
      "_________________________________________________________________\n"
     ]
    }
   ],
   "source": [
    "model.summary()"
   ]
  },
  {
   "cell_type": "code",
   "execution_count": 41,
   "metadata": {},
   "outputs": [],
   "source": [
    " sgd_optimizer = tf.keras.optimizers.SGD(\n",
    "    lr=0.001, decay=1e-7, momentum=.9)\n",
    "\n",
    "model.compile(optimizer=sgd_optimizer,\n",
    "              loss='categorical_crossentropy')"
   ]
  },
  {
   "cell_type": "code",
   "execution_count": 42,
   "metadata": {},
   "outputs": [
    {
     "name": "stdout",
     "output_type": "stream",
     "text": [
      "Train on 54000 samples, validate on 6000 samples\n",
      "Epoch 1/50\n",
      "54000/54000 [==============================] - 4s 72us/sample - loss: 0.7448 - val_loss: 0.3634\n",
      "Epoch 2/50\n",
      "54000/54000 [==============================] - 3s 50us/sample - loss: 0.3670 - val_loss: 0.2716\n",
      "Epoch 3/50\n",
      "54000/54000 [==============================] - 3s 49us/sample - loss: 0.2997 - val_loss: 0.2333\n",
      "Epoch 4/50\n",
      "54000/54000 [==============================] - 3s 49us/sample - loss: 0.2640 - val_loss: 0.2107\n",
      "Epoch 5/50\n",
      "54000/54000 [==============================] - 3s 50us/sample - loss: 0.2395 - val_loss: 0.1937\n",
      "Epoch 6/50\n",
      "54000/54000 [==============================] - 3s 53us/sample - loss: 0.2206 - val_loss: 0.1820\n",
      "Epoch 7/50\n",
      "54000/54000 [==============================] - 3s 62us/sample - loss: 0.2054 - val_loss: 0.1713\n",
      "Epoch 8/50\n",
      "54000/54000 [==============================] - 3s 63us/sample - loss: 0.1924 - val_loss: 0.1633\n",
      "Epoch 9/50\n",
      "54000/54000 [==============================] - 3s 59us/sample - loss: 0.1809 - val_loss: 0.1570\n",
      "Epoch 10/50\n",
      "54000/54000 [==============================] - 3s 63us/sample - loss: 0.1711 - val_loss: 0.1521\n",
      "Epoch 11/50\n",
      "54000/54000 [==============================] - 3s 51us/sample - loss: 0.1620 - val_loss: 0.1475\n",
      "Epoch 12/50\n",
      "54000/54000 [==============================] - 3s 51us/sample - loss: 0.1540 - val_loss: 0.1435\n",
      "Epoch 13/50\n",
      "54000/54000 [==============================] - 3s 53us/sample - loss: 0.1466 - val_loss: 0.1392\n",
      "Epoch 14/50\n",
      "54000/54000 [==============================] - 3s 51us/sample - loss: 0.1399 - val_loss: 0.1371\n",
      "Epoch 15/50\n",
      "54000/54000 [==============================] - 3s 53us/sample - loss: 0.1339 - val_loss: 0.1344\n",
      "Epoch 16/50\n",
      "54000/54000 [==============================] - 3s 51us/sample - loss: 0.1282 - val_loss: 0.1322\n",
      "Epoch 17/50\n",
      "54000/54000 [==============================] - 3s 51us/sample - loss: 0.1231 - val_loss: 0.1297\n",
      "Epoch 18/50\n",
      "54000/54000 [==============================] - 3s 53us/sample - loss: 0.1184 - val_loss: 0.1270\n",
      "Epoch 19/50\n",
      "54000/54000 [==============================] - 3s 53us/sample - loss: 0.1140 - val_loss: 0.1261\n",
      "Epoch 20/50\n",
      "54000/54000 [==============================] - 3s 51us/sample - loss: 0.1098 - val_loss: 0.1243\n",
      "Epoch 21/50\n",
      "54000/54000 [==============================] - 3s 53us/sample - loss: 0.1059 - val_loss: 0.1221\n",
      "Epoch 22/50\n",
      "54000/54000 [==============================] - 3s 52us/sample - loss: 0.1021 - val_loss: 0.1212\n",
      "Epoch 23/50\n",
      "54000/54000 [==============================] - 3s 51us/sample - loss: 0.0988 - val_loss: 0.1199\n",
      "Epoch 24/50\n",
      "54000/54000 [==============================] - 3s 53us/sample - loss: 0.0954 - val_loss: 0.1194\n",
      "Epoch 25/50\n",
      "54000/54000 [==============================] - 3s 52us/sample - loss: 0.0924 - val_loss: 0.1177\n",
      "Epoch 26/50\n",
      "54000/54000 [==============================] - 3s 52us/sample - loss: 0.0894 - val_loss: 0.1175\n",
      "Epoch 27/50\n",
      "54000/54000 [==============================] - 3s 50us/sample - loss: 0.0867 - val_loss: 0.1152\n",
      "Epoch 28/50\n",
      "54000/54000 [==============================] - 3s 49us/sample - loss: 0.0839 - val_loss: 0.1152\n",
      "Epoch 29/50\n",
      "54000/54000 [==============================] - 3s 49us/sample - loss: 0.0813 - val_loss: 0.1147\n",
      "Epoch 30/50\n",
      "54000/54000 [==============================] - 3s 51us/sample - loss: 0.0789 - val_loss: 0.1134\n",
      "Epoch 31/50\n",
      "54000/54000 [==============================] - 3s 49us/sample - loss: 0.0766 - val_loss: 0.1125\n",
      "Epoch 32/50\n",
      "54000/54000 [==============================] - 3s 50us/sample - loss: 0.0741 - val_loss: 0.1125\n",
      "Epoch 33/50\n",
      "54000/54000 [==============================] - 3s 49us/sample - loss: 0.0720 - val_loss: 0.1116\n",
      "Epoch 34/50\n",
      "54000/54000 [==============================] - 3s 49us/sample - loss: 0.0700 - val_loss: 0.1112\n",
      "Epoch 35/50\n",
      "54000/54000 [==============================] - 3s 50us/sample - loss: 0.0678 - val_loss: 0.1107\n",
      "Epoch 36/50\n",
      "54000/54000 [==============================] - 3s 50us/sample - loss: 0.0659 - val_loss: 0.1100\n",
      "Epoch 37/50\n",
      "54000/54000 [==============================] - 3s 49us/sample - loss: 0.0641 - val_loss: 0.1104\n",
      "Epoch 38/50\n",
      "54000/54000 [==============================] - 3s 49us/sample - loss: 0.0622 - val_loss: 0.1089\n",
      "Epoch 39/50\n",
      "54000/54000 [==============================] - 3s 49us/sample - loss: 0.0604 - val_loss: 0.1099\n",
      "Epoch 40/50\n",
      "54000/54000 [==============================] - 3s 50us/sample - loss: 0.0587 - val_loss: 0.1090\n",
      "Epoch 41/50\n",
      "54000/54000 [==============================] - 3s 48us/sample - loss: 0.0572 - val_loss: 0.1099\n",
      "Epoch 42/50\n",
      "54000/54000 [==============================] - 3s 51us/sample - loss: 0.0556 - val_loss: 0.1089\n",
      "Epoch 43/50\n",
      "54000/54000 [==============================] - 3s 51us/sample - loss: 0.0541 - val_loss: 0.1081\n",
      "Epoch 44/50\n",
      "54000/54000 [==============================] - 3s 51us/sample - loss: 0.0527 - val_loss: 0.1083\n",
      "Epoch 45/50\n",
      "54000/54000 [==============================] - 3s 50us/sample - loss: 0.0512 - val_loss: 0.1082\n",
      "Epoch 46/50\n",
      "54000/54000 [==============================] - 3s 50us/sample - loss: 0.0498 - val_loss: 0.1085\n",
      "Epoch 47/50\n",
      "54000/54000 [==============================] - 3s 51us/sample - loss: 0.0485 - val_loss: 0.1094\n",
      "Epoch 48/50\n",
      "54000/54000 [==============================] - 3s 50us/sample - loss: 0.0472 - val_loss: 0.1088\n",
      "Epoch 49/50\n",
      "54000/54000 [==============================] - 3s 50us/sample - loss: 0.0460 - val_loss: 0.1085\n",
      "Epoch 50/50\n",
      "54000/54000 [==============================] - 3s 51us/sample - loss: 0.0448 - val_loss: 0.1090\n"
     ]
    }
   ],
   "source": [
    "history = model.fit(X_train_centered, y_train_onehot,\n",
    "                    batch_size=64, epochs=50,\n",
    "                    verbose=1,\n",
    "                    validation_split=0.1)"
   ]
  },
  {
   "cell_type": "code",
   "execution_count": 43,
   "metadata": {},
   "outputs": [
    {
     "name": "stdout",
     "output_type": "stream",
     "text": [
      "처음 3개 예측:  [5 0 4]\n",
      "훈련 정확도: 99.02%\n"
     ]
    }
   ],
   "source": [
    "y_train_pred = model.predict_classes(X_train_centered, \n",
    "                                     verbose=0)\n",
    "correct_preds = np.sum(y_train == y_train_pred, axis=0) \n",
    "train_acc = correct_preds / y_train.shape[0]\n",
    "\n",
    "print('처음 3개 예측: ', y_train_pred[:3])\n",
    "print('훈련 정확도: %.2f%%' % (train_acc * 100))"
   ]
  },
  {
   "cell_type": "code",
   "execution_count": 44,
   "metadata": {},
   "outputs": [
    {
     "name": "stdout",
     "output_type": "stream",
     "text": [
      "테스트 정확도: 96.06%\n"
     ]
    }
   ],
   "source": [
    "y_test_pred = model.predict_classes(X_test_centered, \n",
    "                                    verbose=0)\n",
    "\n",
    "correct_preds = np.sum(y_test == y_test_pred, axis=0) \n",
    "test_acc = correct_preds / y_test.shape[0]\n",
    "print('테스트 정확도: %.2f%%' % (test_acc * 100))"
   ]
  },
  {
   "cell_type": "code",
   "execution_count": null,
   "metadata": {},
   "outputs": [],
   "source": []
  }
 ],
 "metadata": {
  "kernelspec": {
   "display_name": "Python 3",
   "language": "python",
   "name": "python3"
  },
  "language_info": {
   "codemirror_mode": {
    "name": "ipython",
    "version": 3
   },
   "file_extension": ".py",
   "mimetype": "text/x-python",
   "name": "python",
   "nbconvert_exporter": "python",
   "pygments_lexer": "ipython3",
   "version": "3.7.3"
  }
 },
 "nbformat": 4,
 "nbformat_minor": 2
}
